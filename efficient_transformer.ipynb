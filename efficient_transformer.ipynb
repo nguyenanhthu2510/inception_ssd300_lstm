{
  "cells": [
    {
      "cell_type": "markdown",
      "metadata": {
        "id": "view-in-github",
        "colab_type": "text"
      },
      "source": [
        "<a href=\"https://colab.research.google.com/github/nguyenanhthu2510/inception_ssd300_lstm/blob/efficient-net/efficient_transformer.ipynb\" target=\"_parent\"><img src=\"https://colab.research.google.com/assets/colab-badge.svg\" alt=\"Open In Colab\"/></a>"
      ]
    },
    {
      "cell_type": "code",
      "execution_count": null,
      "metadata": {
        "colab": {
          "base_uri": "https://localhost:8080/"
        },
        "id": "5t4bFqavj7jF",
        "outputId": "28c434aa-4f97-4abe-e578-ba21bb1a8e1a"
      },
      "outputs": [
        {
          "output_type": "stream",
          "name": "stdout",
          "text": [
            "Cloning into 'inception_ssd300_lstm'...\n",
            "remote: Enumerating objects: 43, done.\u001b[K\n",
            "remote: Total 43 (delta 0), reused 0 (delta 0), pack-reused 43\u001b[K\n",
            "Unpacking objects: 100% (43/43), 167.88 MiB | 7.45 MiB/s, done.\n",
            "Updating files: 100% (34/34), done.\n"
          ]
        }
      ],
      "source": [
        "!git clone  -b efficient-net https://github.com/nguyenanhthu2510/inception_ssd300_lstm.git"
      ]
    },
    {
      "cell_type": "code",
      "source": [
        "%cd /content/inception_ssd300_lstm/"
      ],
      "metadata": {
        "colab": {
          "base_uri": "https://localhost:8080/"
        },
        "id": "cmRy0rEaxGlZ",
        "outputId": "481a1c6b-7284-4bab-98e4-b2514ab0f47d"
      },
      "execution_count": null,
      "outputs": [
        {
          "output_type": "stream",
          "name": "stdout",
          "text": [
            "/content/inception_ssd300_lstm\n"
          ]
        }
      ]
    },
    {
      "cell_type": "code",
      "source": [
        "!python data_download.py\n"
      ],
      "metadata": {
        "colab": {
          "base_uri": "https://localhost:8080/"
        },
        "id": "27BNEEr7xj2E",
        "outputId": "14cc9945-d0bb-467d-f181-71fc3672f033"
      },
      "execution_count": null,
      "outputs": [
        {
          "output_type": "stream",
          "name": "stdout",
          "text": [
            "2023-07-03 04:17:10.248886: I tensorflow/core/platform/cpu_feature_guard.cc:182] This TensorFlow binary is optimized to use available CPU instructions in performance-critical operations.\n",
            "To enable the following instructions: AVX2 AVX512F FMA, in other operations, rebuild TensorFlow with the appropriate compiler flags.\n",
            "2023-07-03 04:17:11.213663: W tensorflow/compiler/tf2tensorrt/utils/py_utils.cc:38] TF-TRT Warning: Could not find TensorRT\n",
            "http://nlp.stanford.edu/data/glove.6B.zip\n",
            ">>> Downloading glove embeddings <Wikipedia 2014 + Gigaword 5>...\n",
            "Glove embeddings already downloaded\n",
            ">>> Downloading cfg and weights of ssd300...\n"
          ]
        }
      ]
    }
  ],
  "metadata": {
    "accelerator": "GPU",
    "colab": {
      "provenance": [],
      "gpuType": "T4",
      "authorship_tag": "ABX9TyPI6S/NPhEFOX+/cIyv7JeA",
      "include_colab_link": true
    },
    "kernelspec": {
      "display_name": "Python 3",
      "name": "python3"
    },
    "language_info": {
      "name": "python"
    }
  },
  "nbformat": 4,
  "nbformat_minor": 0
}